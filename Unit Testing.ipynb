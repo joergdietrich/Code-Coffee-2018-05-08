{
 "cells": [
  {
   "cell_type": "markdown",
   "metadata": {
    "slideshow": {
     "slide_type": "slide"
    }
   },
   "source": [
    "# Unit Testing Code in Python\n",
    "## A very brief overview\n",
    "Jörg Dietrich"
   ]
  },
  {
   "cell_type": "markdown",
   "metadata": {
    "slideshow": {
     "slide_type": "slide"
    }
   },
   "source": [
    "# Why Unit Testing and What Is It?\n",
    "\n",
    "* Automatically test small units (functions, methods) of your code.\n",
    "* Remove necessity to run large programs end-to-end to test small changes\n",
    "* Catch regressions before they are shipped to other users/used in your research\n",
    "* Modular, no need to test everything, everytime\n",
    "* Ideally, large parts of the code should be covered by tests, covering regular and corner cases"
   ]
  },
  {
   "cell_type": "markdown",
   "metadata": {
    "slideshow": {
     "slide_type": "slide"
    }
   },
   "source": [
    "# Several Frameworks\n",
    "\n",
    "* nose (not developed anymore)\n",
    "* nose2 (successor of nose)\n",
    "* unittest in the Python Standard Library\n",
    "* pytest (this presentation)"
   ]
  },
  {
   "cell_type": "markdown",
   "metadata": {
    "slideshow": {
     "slide_type": "slide"
    }
   },
   "source": [
    "# Example Code"
   ]
  },
  {
   "cell_type": "code",
   "execution_count": 1,
   "metadata": {
    "slideshow": {
     "slide_type": "slide"
    }
   },
   "outputs": [
    {
     "name": "stdout",
     "output_type": "stream",
     "text": [
      "Writing cosmology.py\n"
     ]
    }
   ],
   "source": [
    "%%writefile cosmology.py\n",
    "import numpy as np\n",
    "from scipy.integrate import quad\n",
    "\n",
    "\n",
    "class Cosmology:\n",
    "    def __init__(self, omega_m=0.3, omega_l=0.7, h=0.7):\n",
    "        self.omega_m = omega_m\n",
    "        self.omega_l = omega_l\n",
    "        self.omega_k = 1. - self.omega_m - self.omega_l\n",
    "        self.h = h\n",
    "        self.dh = 3000 / self.h   # Hubble distance in Mpc.\n",
    "        return\n",
    "\n",
    "    def Ez(self, z):\n",
    "        e = np.sqrt(self.omega_m * (1 + z)**3 + self.omega_k * (1 + z)**2\n",
    "                    + self.omega_l)\n",
    "        return e\n",
    "\n",
    "    def ooEz(self, z):\n",
    "        \"\"\"Returns 1/E(z)\"\"\"\n",
    "        return 1 / self.Ez(z)\n",
    "\n",
    "    def comoving_line_of_sight_distance(self, z1, z2):\n",
    "        \"\"\"Returns the line of sight comoving distance between objects at\n",
    "        redshifts z1 and z2, z2>z1. Value is in Mpc/h\"\"\"\n",
    "        if z1 >= z2:\n",
    "            raise ValueError(\"z2 must be greater than z1\")\n",
    "        dclos = self.dh * quad(self.ooEz, z1, z2)[0]\n",
    "        return dclos\n",
    "\n",
    "    def angular_diameter_distance(self, z1, z2):\n",
    "        raise NotImplementedError(\"not yet\")"
   ]
  },
  {
   "cell_type": "markdown",
   "metadata": {
    "slideshow": {
     "slide_type": "slide"
    }
   },
   "source": [
    "# Writing Our First Tests\n",
    "\n",
    "* Every file starting with test\\_ will be inspected\n",
    "* Every function starting with test\\_ will be executed\n",
    "\n",
    "when running pytest."
   ]
  },
  {
   "cell_type": "code",
   "execution_count": 2,
   "metadata": {
    "slideshow": {
     "slide_type": "slide"
    }
   },
   "outputs": [
    {
     "name": "stdout",
     "output_type": "stream",
     "text": [
      "Writing test_cosmology.py\n"
     ]
    }
   ],
   "source": [
    "%%writefile test_cosmology.py\n",
    "from cosmology import Cosmology\n",
    "\n",
    "from numpy.testing import assert_almost_equal\n",
    "\n",
    "\n",
    "def test_ez():\n",
    "    cosmo = Cosmology()\n",
    "    actual = cosmo.Ez(1)\n",
    "    assert_almost_equal(actual, 1.7606816861659007)\n",
    "    \n",
    "def test_comoving_line_of_sight_distance():\n",
    "    cosmo = Cosmology()\n",
    "    actual = cosmo.comoving_line_of_sight_distance(0, 1)\n",
    "    assert_almost_equal(actual, 3306.1159989763337)"
   ]
  },
  {
   "cell_type": "code",
   "execution_count": 3,
   "metadata": {
    "slideshow": {
     "slide_type": "slide"
    }
   },
   "outputs": [
    {
     "name": "stdout",
     "output_type": "stream",
     "text": [
      "\u001b[1m============================= test session starts ==============================\u001b[0m\n",
      "platform linux -- Python 3.6.4, pytest-3.3.2, py-1.5.2, pluggy-0.6.0\n",
      "rootdir: /home/joerg/TALKS/2018-05-08_code-coffee, inifile:\n",
      "plugins: remotedata-0.2.0, openfiles-0.2.0, doctestplus-0.1.2, cov-2.5.1, arraydiff-0.2, hypothesis-3.38.5\n",
      "collected 2 items                                                              \u001b[0m\u001b[1m\n",
      "\n",
      "test_cosmology.py ..\u001b[36m                                                     [100%]\u001b[0m\n",
      "\n",
      "\u001b[32m\u001b[1m=========================== 2 passed in 0.09 seconds ===========================\u001b[0m\n"
     ]
    }
   ],
   "source": [
    "!pytest"
   ]
  },
  {
   "cell_type": "markdown",
   "metadata": {
    "slideshow": {
     "slide_type": "slide"
    }
   },
   "source": [
    "# Testing Exceptions"
   ]
  },
  {
   "cell_type": "code",
   "execution_count": 4,
   "metadata": {
    "slideshow": {
     "slide_type": "slide"
    }
   },
   "outputs": [
    {
     "name": "stdout",
     "output_type": "stream",
     "text": [
      "Overwriting test_cosmology.py\n"
     ]
    }
   ],
   "source": [
    "%%writefile test_cosmology.py\n",
    "from cosmology import Cosmology\n",
    "\n",
    "import pytest\n",
    "\n",
    "from numpy.testing import assert_almost_equal\n",
    "\n",
    "\n",
    "def test_ez():\n",
    "    cosmo = Cosmology()\n",
    "    actual = cosmo.Ez(1)\n",
    "    assert_almost_equal(actual, 1.7606816861659007)\n",
    "\n",
    "\n",
    "def test_comoving_line_of_sight_distance():\n",
    "    cosmo = Cosmology()\n",
    "    actual = cosmo.comoving_line_of_sight_distance(0, 1)\n",
    "    assert_almost_equal(actual, 3306.1159989763337)\n",
    "\n",
    "\n",
    "def test_comoving_line_of_sight_distance_exception():\n",
    "    cosmo = Cosmology()\n",
    "    with pytest.raises(ValueError) as err:\n",
    "        cosmo.comoving_line_of_sight_distance(1, 0)\n",
    "    assert \"z2 must be greater than z1\" in str(err.value)"
   ]
  },
  {
   "cell_type": "code",
   "execution_count": 5,
   "metadata": {
    "slideshow": {
     "slide_type": "slide"
    }
   },
   "outputs": [
    {
     "name": "stdout",
     "output_type": "stream",
     "text": [
      "\u001b[1m============================= test session starts ==============================\u001b[0m\n",
      "platform linux -- Python 3.6.4, pytest-3.3.2, py-1.5.2, pluggy-0.6.0\n",
      "rootdir: /home/joerg/TALKS/2018-05-08_code-coffee, inifile:\n",
      "plugins: remotedata-0.2.0, openfiles-0.2.0, doctestplus-0.1.2, cov-2.5.1, arraydiff-0.2, hypothesis-3.38.5\n",
      "collected 3 items                                                              \u001b[0m\u001b[1m\n",
      "\n",
      "test_cosmology.py ...\u001b[36m                                                    [100%]\u001b[0m\n",
      "\n",
      "\u001b[32m\u001b[1m=========================== 3 passed in 0.08 seconds ===========================\u001b[0m\n"
     ]
    }
   ],
   "source": [
    "!pytest"
   ]
  },
  {
   "cell_type": "markdown",
   "metadata": {
    "slideshow": {
     "slide_type": "slide"
    }
   },
   "source": [
    "# Markers\n",
    "\n",
    "Markers are decorators, which can be used to tell `pytest`\n",
    "\n",
    "* to skip a test (`@pytest.mark.skip`)\n",
    "* conditionally skip a test (`@pytest.mark.skipif`)\n",
    "* parametrize a test (run with varying input) (`@pytest.mark.parametrize`)\n",
    "* a test is expected to fail (`@pytest.mark.xfail`)\n",
    "\n",
    "Custom markers can be defined."
   ]
  },
  {
   "cell_type": "code",
   "execution_count": 6,
   "metadata": {
    "slideshow": {
     "slide_type": "slide"
    }
   },
   "outputs": [
    {
     "name": "stdout",
     "output_type": "stream",
     "text": [
      "Overwriting test_cosmology.py\n"
     ]
    }
   ],
   "source": [
    "%%writefile test_cosmology.py\n",
    "from cosmology import Cosmology\n",
    "\n",
    "import pytest\n",
    "\n",
    "from numpy.testing import assert_almost_equal\n",
    "\n",
    "\n",
    "@pytest.mark.parametrize('z, expected', [(0.1, 1.048475083156486),\n",
    "                                         (0.5, 1.3086252328302401),\n",
    "                                         (1.0, 1.7606816861659007)])\n",
    "def test_ez(z, expected):\n",
    "    cosmo = Cosmology()\n",
    "    actual = cosmo.Ez(z)\n",
    "    assert_almost_equal(actual, expected)\n",
    "\n",
    "\n",
    "def test_comoving_line_of_sight_distance():\n",
    "    cosmo = Cosmology()\n",
    "    actual = cosmo.comoving_line_of_sight_distance(0, 1)\n",
    "    assert_almost_equal(actual, 3306.1159989763337)\n",
    "\n",
    "\n",
    "def test_comoving_line_of_sight_distance_exception():\n",
    "    cosmo = Cosmology()\n",
    "    with pytest.raises(ValueError) as err:\n",
    "        cosmo.comoving_line_of_sight_distance(1, 0)\n",
    "    assert \"z2 must be greater than z1\" in str(err.value)"
   ]
  },
  {
   "cell_type": "code",
   "execution_count": 7,
   "metadata": {
    "slideshow": {
     "slide_type": "slide"
    }
   },
   "outputs": [
    {
     "name": "stdout",
     "output_type": "stream",
     "text": [
      "\u001b[1m============================= test session starts ==============================\u001b[0m\n",
      "platform linux -- Python 3.6.4, pytest-3.3.2, py-1.5.2, pluggy-0.6.0\n",
      "rootdir: /home/joerg/TALKS/2018-05-08_code-coffee, inifile:\n",
      "plugins: remotedata-0.2.0, openfiles-0.2.0, doctestplus-0.1.2, cov-2.5.1, arraydiff-0.2, hypothesis-3.38.5\n",
      "collected 5 items                                                              \u001b[0m\u001b[1m\n",
      "\n",
      "test_cosmology.py .....\u001b[36m                                                  [100%]\u001b[0m\n",
      "\n",
      "\u001b[32m\u001b[1m=========================== 5 passed in 0.09 seconds ===========================\u001b[0m\n"
     ]
    }
   ],
   "source": [
    "!pytest"
   ]
  },
  {
   "cell_type": "code",
   "execution_count": 8,
   "metadata": {
    "slideshow": {
     "slide_type": "slide"
    }
   },
   "outputs": [
    {
     "name": "stdout",
     "output_type": "stream",
     "text": [
      "Overwriting test_cosmology.py\n"
     ]
    }
   ],
   "source": [
    "%%writefile test_cosmology.py\n",
    "from cosmology import Cosmology\n",
    "\n",
    "import pytest\n",
    "\n",
    "from numpy.testing import assert_almost_equal\n",
    "\n",
    "\n",
    "@pytest.mark.xfail\n",
    "def test_angular_diameter_distance():\n",
    "    cosmo = Cosmology()\n",
    "    actual = cosmo.angular_diameter_distance(0, 1)\n",
    "    desired = 1156.34008206\n",
    "    assert_almost_equal(actual, desired)\n",
    "\n",
    "@pytest.mark.parametrize('z, expected', [(0.1, 1.048475083156486),\n",
    "                                         (0.5, 1.3086252328302401),\n",
    "                                         (1.0, 1.7606816861659007)])\n",
    "def test_ez(z, expected):\n",
    "    cosmo = Cosmology()\n",
    "    actual = cosmo.Ez(z)\n",
    "    assert_almost_equal(actual, expected)\n",
    "\n",
    "\n",
    "def test_comoving_line_of_sight_distance():\n",
    "    cosmo = Cosmology()\n",
    "    actual = cosmo.comoving_line_of_sight_distance(0, 1)\n",
    "    assert_almost_equal(actual, 3306.1159989763337)\n",
    "\n",
    "\n",
    "def test_comoving_line_of_sight_distance_exception():\n",
    "    cosmo = Cosmology()\n",
    "    with pytest.raises(ValueError) as err:\n",
    "        cosmo.comoving_line_of_sight_distance(1, 0)\n",
    "    assert \"z2 must be greater than z1\" in str(err.value)"
   ]
  },
  {
   "cell_type": "code",
   "execution_count": 9,
   "metadata": {
    "slideshow": {
     "slide_type": "slide"
    }
   },
   "outputs": [
    {
     "name": "stdout",
     "output_type": "stream",
     "text": [
      "\u001b[1m============================= test session starts ==============================\u001b[0m\n",
      "platform linux -- Python 3.6.4, pytest-3.3.2, py-1.5.2, pluggy-0.6.0\n",
      "rootdir: /home/joerg/TALKS/2018-05-08_code-coffee, inifile:\n",
      "plugins: remotedata-0.2.0, openfiles-0.2.0, doctestplus-0.1.2, cov-2.5.1, arraydiff-0.2, hypothesis-3.38.5\n",
      "collected 6 items                                                              \u001b[0m\u001b[1m\n",
      "\n",
      "test_cosmology.py x.....\u001b[36m                                                 [100%]\u001b[0m\n",
      "\n",
      "\u001b[32m\u001b[1m===================== 5 passed, 1 xfailed in 0.14 seconds ======================\u001b[0m\n"
     ]
    }
   ],
   "source": [
    "!pytest"
   ]
  },
  {
   "cell_type": "markdown",
   "metadata": {
    "slideshow": {
     "slide_type": "slide"
    }
   },
   "source": [
    "# Classes as containers for tests\n",
    "\n",
    "We had to instantiate `Cosmology` every time we defined a new test. Wrapping all tests in a class makes this less repetitive."
   ]
  },
  {
   "cell_type": "code",
   "execution_count": 10,
   "metadata": {
    "slideshow": {
     "slide_type": "slide"
    }
   },
   "outputs": [
    {
     "name": "stdout",
     "output_type": "stream",
     "text": [
      "Writing test_cosmology_class.py\n"
     ]
    }
   ],
   "source": [
    "%%writefile test_cosmology_class.py\n",
    "from cosmology import Cosmology\n",
    "\n",
    "import pytest\n",
    "\n",
    "from numpy.testing import assert_almost_equal\n",
    "\n",
    "\n",
    "class TestCosmology:\n",
    "    def setup_class(cls):\n",
    "        cls.cosmo = Cosmology()\n",
    "\n",
    "    @pytest.mark.parametrize('z, expected', [(0.1, 1.048475083156486),\n",
    "                                         (0.5, 1.3086252328302401),\n",
    "                                         (1.0, 1.7606816861659007)])\n",
    "    def test_ez(self, z, expected):\n",
    "        actual = self.cosmo.Ez(1)\n",
    "        assert_almost_equal(actual, 1.7606816861659007)\n",
    "\n",
    "    def test_comoving_line_of_sight_distance(self):\n",
    "        actual = self.cosmo.comoving_line_of_sight_distance(0, 1)\n",
    "        assert_almost_equal(actual, 3306.1159989763337)\n",
    "\n",
    "    def test_comoving_line_of_sight_distance_exception(self):\n",
    "        with pytest.raises(ValueError) as err:\n",
    "            self.cosmo.comoving_line_of_sight_distance(1, 0)\n",
    "        assert \"z2 must be greater than z1\" in str(err.value)\n",
    "\n",
    "    @pytest.mark.xfail\n",
    "    def test_angular_diameter_distance(self):\n",
    "        actual = self.cosmo.angular_diameter_distance(0, 1)\n",
    "        desired = 1156.34008206\n",
    "        assert_almost_equal(actual, desired)"
   ]
  },
  {
   "cell_type": "code",
   "execution_count": 11,
   "metadata": {
    "slideshow": {
     "slide_type": "slide"
    }
   },
   "outputs": [
    {
     "name": "stdout",
     "output_type": "stream",
     "text": [
      "\u001b[1m============================= test session starts ==============================\u001b[0m\n",
      "platform linux -- Python 3.6.4, pytest-3.3.2, py-1.5.2, pluggy-0.6.0\n",
      "rootdir: /home/joerg/TALKS/2018-05-08_code-coffee, inifile:\n",
      "plugins: remotedata-0.2.0, openfiles-0.2.0, doctestplus-0.1.2, cov-2.5.1, arraydiff-0.2, hypothesis-3.38.5\n",
      "collected 12 items                                                             \u001b[0m\u001b[1m\u001b[1m\n",
      "\n",
      "test_cosmology.py x.....\u001b[36m                                                 [ 50%]\u001b[0m\n",
      "test_cosmology_class.py .....x\u001b[36m                                           [100%]\u001b[0m\n",
      "\n",
      "\u001b[32m\u001b[1m===================== 10 passed, 2 xfailed in 0.16 seconds =====================\u001b[0m\n"
     ]
    }
   ],
   "source": [
    "!pytest"
   ]
  },
  {
   "cell_type": "markdown",
   "metadata": {
    "slideshow": {
     "slide_type": "slide"
    }
   },
   "source": [
    "# Suggested Work Flow\n",
    "\n",
    "* For every new method or function write a unit test\n",
    "* Try to cover normal input as well as corner cases\n",
    "* If an Exception can be raised, test for that as well\n",
    "* If you find a bug fix it and then add a test to ensure that the bug stays fixed\n",
    "\n",
    "## Example:"
   ]
  },
  {
   "cell_type": "code",
   "execution_count": 12,
   "metadata": {
    "slideshow": {
     "slide_type": "slide"
    }
   },
   "outputs": [
    {
     "name": "stdout",
     "output_type": "stream",
     "text": [
      "Writing fib.py\n"
     ]
    }
   ],
   "source": [
    "%%writefile fib.py\n",
    "def fibonacci(n):\n",
    "    \"\"\"Compute the n-th Fibonacci number by iteration\"\"\"\n",
    "    if n in [0, 1]:\n",
    "        return n\n",
    "    else:\n",
    "        return fibonacci(n - 1) + fibonacci(n - 2)"
   ]
  },
  {
   "cell_type": "code",
   "execution_count": 13,
   "metadata": {},
   "outputs": [
    {
     "name": "stdout",
     "output_type": "stream",
     "text": [
      "Writing test_fib.py\n"
     ]
    }
   ],
   "source": [
    "%%writefile test_fib.py\n",
    "from numpy.testing import assert_array_equal\n",
    "import numpy as np\n",
    "\n",
    "import pytest\n",
    "\n",
    "from fib import fibonacci\n",
    "\n",
    "\n",
    "def test_fibonacci():\n",
    "    actual = np.array([fibonacci(i) for i in range(10)])\n",
    "    desired = np.array([0, 1, 1, 2, 3, 5, 8, 13, 21, 34])\n",
    "    assert_array_equal(actual, desired)\n"
   ]
  },
  {
   "cell_type": "code",
   "execution_count": 14,
   "metadata": {
    "slideshow": {
     "slide_type": "slide"
    }
   },
   "outputs": [
    {
     "name": "stdout",
     "output_type": "stream",
     "text": [
      "\u001b[1m============================= test session starts ==============================\u001b[0m\n",
      "platform linux -- Python 3.6.4, pytest-3.3.2, py-1.5.2, pluggy-0.6.0\n",
      "rootdir: /home/joerg/TALKS/2018-05-08_code-coffee, inifile:\n",
      "plugins: remotedata-0.2.0, openfiles-0.2.0, doctestplus-0.1.2, cov-2.5.1, arraydiff-0.2, hypothesis-3.38.5\n",
      "collected 13 items                                                             \u001b[0m\u001b[1m\n",
      "\n",
      "test_cosmology.py x.....\u001b[36m                                                 [ 46%]\u001b[0m\n",
      "test_cosmology_class.py .....x\u001b[36m                                           [ 92%]\u001b[0m\n",
      "test_fib.py .\u001b[36m                                                            [100%]\u001b[0m\n",
      "\n",
      "\u001b[32m\u001b[1m===================== 11 passed, 2 xfailed in 0.17 seconds =====================\u001b[0m\n"
     ]
    }
   ],
   "source": [
    "!pytest"
   ]
  },
  {
   "cell_type": "markdown",
   "metadata": {},
   "source": [
    "### But there is a problem:"
   ]
  },
  {
   "cell_type": "code",
   "execution_count": 15,
   "metadata": {
    "slideshow": {
     "slide_type": "skip"
    }
   },
   "outputs": [],
   "source": [
    "from IPython.core.magic import register_cell_magic\n",
    "import sys\n",
    "\n",
    "@register_cell_magic\n",
    "def handle(line, cell):\n",
    "    try:\n",
    "        exec(cell)\n",
    "    except Exception as e:\n",
    "        print(sys.exc_info())"
   ]
  },
  {
   "cell_type": "code",
   "execution_count": 16,
   "metadata": {},
   "outputs": [
    {
     "name": "stdout",
     "output_type": "stream",
     "text": [
      "(<class 'RecursionError'>, RecursionError('maximum recursion depth exceeded in comparison',), <traceback object at 0x7f7f916e2e48>)\n"
     ]
    }
   ],
   "source": [
    "%%handle\n",
    "from fib import fibonacci\n",
    "\n",
    "fibonacci(9.5)"
   ]
  },
  {
   "cell_type": "code",
   "execution_count": 17,
   "metadata": {
    "slideshow": {
     "slide_type": "slide"
    }
   },
   "outputs": [
    {
     "name": "stdout",
     "output_type": "stream",
     "text": [
      "Overwriting fib.py\n"
     ]
    }
   ],
   "source": [
    "%%writefile fib.py\n",
    "def fibonacci(n):\n",
    "    \"\"\"Compute the n-th Fibonacci number by iteration\"\"\"\n",
    "    if n != int(n):\n",
    "        raise ValueError(\"n must be integer\")\n",
    "    if n in [0, 1]:\n",
    "        return n\n",
    "    else:\n",
    "        return fibonacci(n - 1) + fibonacci(n - 2)"
   ]
  },
  {
   "cell_type": "code",
   "execution_count": 18,
   "metadata": {},
   "outputs": [
    {
     "name": "stdout",
     "output_type": "stream",
     "text": [
      "Overwriting test_fib.py\n"
     ]
    }
   ],
   "source": [
    "%%writefile test_fib.py\n",
    "from numpy.testing import assert_array_equal\n",
    "import numpy as np\n",
    "\n",
    "import pytest\n",
    "\n",
    "from fib import fibonacci\n",
    "\n",
    "\n",
    "def test_fibonacci():\n",
    "    actual = np.array([fibonacci(i) for i in range(10)])\n",
    "    desired = np.array([0, 1, 1, 2, 3, 5, 8, 13, 21, 34])\n",
    "    assert_array_equal(actual, desired)\n",
    "\n",
    "def test_fibonacci_int():\n",
    "    with pytest.raises(ValueError):\n",
    "        fibonacci(9.5)"
   ]
  },
  {
   "cell_type": "code",
   "execution_count": 19,
   "metadata": {
    "slideshow": {
     "slide_type": "slide"
    }
   },
   "outputs": [
    {
     "name": "stdout",
     "output_type": "stream",
     "text": [
      "\u001b[1m============================= test session starts ==============================\u001b[0m\n",
      "platform linux -- Python 3.6.4, pytest-3.3.2, py-1.5.2, pluggy-0.6.0\n",
      "rootdir: /home/joerg/TALKS/2018-05-08_code-coffee, inifile:\n",
      "plugins: remotedata-0.2.0, openfiles-0.2.0, doctestplus-0.1.2, cov-2.5.1, arraydiff-0.2, hypothesis-3.38.5\n",
      "collected 14 items                                                             \u001b[0m\u001b[1m\n",
      "\n",
      "test_cosmology.py x.....\u001b[36m                                                 [ 42%]\u001b[0m\n",
      "test_cosmology_class.py .....x\u001b[36m                                           [ 85%]\u001b[0m\n",
      "test_fib.py ..\u001b[36m                                                           [100%]\u001b[0m\n",
      "\n",
      "\u001b[32m\u001b[1m===================== 12 passed, 2 xfailed in 0.16 seconds =====================\u001b[0m\n"
     ]
    }
   ],
   "source": [
    "!pytest"
   ]
  },
  {
   "cell_type": "markdown",
   "metadata": {
    "slideshow": {
     "slide_type": "slide"
    }
   },
   "source": [
    "# Bonus: Custom decorator"
   ]
  },
  {
   "cell_type": "code",
   "execution_count": 20,
   "metadata": {
    "slideshow": {
     "slide_type": "slide"
    }
   },
   "outputs": [
    {
     "name": "stdout",
     "output_type": "stream",
     "text": [
      "Overwriting test_fib.py\n"
     ]
    }
   ],
   "source": [
    "%%writefile test_fib.py\n",
    "from numpy.testing import assert_array_equal\n",
    "import numpy as np\n",
    "\n",
    "import pytest\n",
    "\n",
    "from fib import fibonacci\n",
    "\n",
    "\n",
    "def test_fibonacci():\n",
    "    actual = np.array([fibonacci(i) for i in range(10)])\n",
    "    desired = np.array([0, 1, 1, 2, 3, 5, 8, 13, 21, 34])\n",
    "    assert_array_equal(actual, desired)\n",
    "\n",
    "def test_fibonacci_int():\n",
    "    with pytest.raises(ValueError):\n",
    "        fibonacci(9.5)\n",
    "        \n",
    "@pytest.mark.slow\n",
    "def test_fibonacci_large():\n",
    "    assert fibonacci(36) == 14930352"
   ]
  },
  {
   "cell_type": "code",
   "execution_count": 21,
   "metadata": {
    "slideshow": {
     "slide_type": "slide"
    }
   },
   "outputs": [
    {
     "name": "stdout",
     "output_type": "stream",
     "text": [
      "Writing conftest.py\n"
     ]
    }
   ],
   "source": [
    "%%writefile conftest.py\n",
    "import pytest\n",
    "\n",
    "\n",
    "def pytest_addoption(parser):\n",
    "    parser.addoption(\"--runslow\", action=\"store_true\", help=\"run slow tests\")\n",
    "\n",
    "\n",
    "def pytest_runtest_setup(item):\n",
    "    if 'slow' in item.keywords and not item.config.getoption(\"--runslow\"):\n",
    "        pytest.skip(\"need --runslow option to run\")"
   ]
  },
  {
   "cell_type": "code",
   "execution_count": 22,
   "metadata": {
    "slideshow": {
     "slide_type": "slide"
    }
   },
   "outputs": [
    {
     "name": "stdout",
     "output_type": "stream",
     "text": [
      "\u001b[1m============================= test session starts ==============================\u001b[0m\n",
      "platform linux -- Python 3.6.4, pytest-3.3.2, py-1.5.2, pluggy-0.6.0\n",
      "rootdir: /home/joerg/TALKS/2018-05-08_code-coffee, inifile:\n",
      "plugins: remotedata-0.2.0, openfiles-0.2.0, doctestplus-0.1.2, cov-2.5.1, arraydiff-0.2, hypothesis-3.38.5\n",
      "collected 15 items                                                             \u001b[0m\u001b[1m\u001b[1m\n",
      "\n",
      "test_cosmology.py x.....\u001b[36m                                                 [ 40%]\u001b[0m\n",
      "test_cosmology_class.py .....x\u001b[36m                                           [ 80%]\u001b[0m\n",
      "test_fib.py ..s\u001b[36m                                                          [100%]\u001b[0m\n",
      "\n",
      "\u001b[32m\u001b[1m=============== 12 passed, 1 skipped, 2 xfailed in 0.15 seconds ================\u001b[0m\n"
     ]
    }
   ],
   "source": [
    "!pytest"
   ]
  },
  {
   "cell_type": "code",
   "execution_count": 23,
   "metadata": {},
   "outputs": [
    {
     "name": "stdout",
     "output_type": "stream",
     "text": [
      "\u001b[1m============================= test session starts ==============================\u001b[0m\n",
      "platform linux -- Python 3.6.4, pytest-3.3.2, py-1.5.2, pluggy-0.6.0\n",
      "rootdir: /home/joerg/TALKS/2018-05-08_code-coffee, inifile:\n",
      "plugins: remotedata-0.2.0, openfiles-0.2.0, doctestplus-0.1.2, cov-2.5.1, arraydiff-0.2, hypothesis-3.38.5\n",
      "collected 15 items                                                             \u001b[0m\u001b[1m\u001b[1m\n",
      "\n",
      "test_cosmology.py x.....\u001b[36m                                                 [ 40%]\u001b[0m\n",
      "test_cosmology_class.py .....x\u001b[36m                                           [ 80%]\u001b[0m\n",
      "test_fib.py ...\u001b[36m                                                          [100%]\u001b[0m\n",
      "\n",
      "\u001b[32m\u001b[1m==================== 13 passed, 2 xfailed in 14.48 seconds =====================\u001b[0m\n"
     ]
    }
   ],
   "source": [
    "!pytest --runslow"
   ]
  },
  {
   "cell_type": "code",
   "execution_count": null,
   "metadata": {},
   "outputs": [],
   "source": []
  }
 ],
 "metadata": {
  "kernelspec": {
   "display_name": "Python 3",
   "language": "python",
   "name": "python3"
  },
  "language_info": {
   "codemirror_mode": {
    "name": "ipython",
    "version": 3
   },
   "file_extension": ".py",
   "mimetype": "text/x-python",
   "name": "python",
   "nbconvert_exporter": "python",
   "pygments_lexer": "ipython3",
   "version": "3.6.4"
  }
 },
 "nbformat": 4,
 "nbformat_minor": 2
}
